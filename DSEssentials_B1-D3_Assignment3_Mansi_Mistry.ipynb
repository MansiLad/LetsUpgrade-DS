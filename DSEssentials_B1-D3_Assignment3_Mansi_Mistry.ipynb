{
 "cells": [
  {
   "cell_type": "code",
   "execution_count": 1,
   "metadata": {},
   "outputs": [],
   "source": [
    "import numpy as np"
   ]
  },
  {
   "cell_type": "markdown",
   "metadata": {},
   "source": [
    "## Questions 1:\n",
    "Create a numpy array starting from 2 till 50 with a stepsize of 3."
   ]
  },
  {
   "cell_type": "code",
   "execution_count": 2,
   "metadata": {},
   "outputs": [
    {
     "name": "stdout",
     "output_type": "stream",
     "text": [
      "[ 2. 26. 50.]\n"
     ]
    }
   ],
   "source": [
    "arr = np.linspace(2,50,3)\n",
    "print(arr)"
   ]
  },
  {
   "cell_type": "markdown",
   "metadata": {},
   "source": [
    "## Questions 2:\n",
    "Accept two lists of 5 elements each from the user.\n",
    "Convert them to numpy arrays. Concatenate these arrays and print it. Also sort these arrays and print it."
   ]
  },
  {
   "cell_type": "code",
   "execution_count": 3,
   "metadata": {},
   "outputs": [
    {
     "name": "stdout",
     "output_type": "stream",
     "text": [
      "Enter 5 element of List 1:\n",
      "3\n",
      "4\n",
      "2\n",
      "5\n",
      "1\n",
      "\n",
      "Enter 5 element of List 2:\n",
      "7\n",
      "6\n",
      "8\n",
      "0\n",
      "9\n",
      "\n",
      "First :[3, 4, 2, 5, 1]\n",
      "Second :[7, 6, 8, 0, 9]\n",
      "\n",
      "Merged array:[3 4 2 5 1 7 6 8 0 9]\n",
      "\n",
      "[0 1 2 3 4 5 6 7 8 9]\n"
     ]
    }
   ],
   "source": [
    "#initializing empty array\n",
    "arr1, arr2 = [], []\n",
    "\n",
    "#accepting 2 list from user\n",
    "print(\"Enter 5 element of List 1:\")\n",
    "for i in range(5):\n",
    "    n = int(input())\n",
    "    arr1.append(n)\n",
    "print()\n",
    "\n",
    "print(\"Enter 5 element of List 2:\")\n",
    "for i in range(5):\n",
    "    n = int(input())\n",
    "    arr2.append(n)  \n",
    "\n",
    "print()\n",
    "\n",
    "#display of entered list\n",
    "print(\"First :\" + str(arr1))\n",
    "print(\"Second :\" + str(arr2))\n",
    "print()\n",
    "\n",
    "#converting into numpy array\n",
    "np_arr1 = np.array(arr1)\n",
    "np_arr2 = np.array(arr2)\n",
    "\n",
    "#concantinating both the array\n",
    "arr = np.concatenate((np_arr1, np_arr2))\n",
    "print(\"Merged array:\" + str(arr))\n",
    "print()\n",
    "\n",
    "#sorting the array\n",
    "arr = np.sort(arr)\n",
    "print(arr)"
   ]
  },
  {
   "cell_type": "markdown",
   "metadata": {},
   "source": [
    "## Questions 3:\n",
    "Write a code snippet to find the dimensions of a ndarray and its size."
   ]
  },
  {
   "cell_type": "code",
   "execution_count": 4,
   "metadata": {},
   "outputs": [
    {
     "name": "stdout",
     "output_type": "stream",
     "text": [
      "    Fisrt nd array: \n",
      "[0 1 2 3]\n",
      "    Dimension: 1\n",
      "    Size: 4\n",
      "\n",
      "    Second nd array: \n",
      "[[ 0  1  2  3]\n",
      " [ 4  5  6  7]\n",
      " [ 8  9 10 11]\n",
      " [12 13 14 15]]\n",
      "    Dimension: 2\n",
      "    Size: 16\n",
      "\n",
      "    Third nd array: \n",
      "[[[ 0  1  2  3]\n",
      "  [ 4  5  6  7]]\n",
      "\n",
      " [[ 8  9 10 11]\n",
      "  [12 13 14 15]]\n",
      "\n",
      " [[16 17 18 19]\n",
      "  [20 21 22 23]]]\n",
      "    Dimension: 3\n",
      "    Size: 24\n"
     ]
    }
   ],
   "source": [
    "arr_1d = np.arange(4)\n",
    "print(\"    Fisrt nd array: \")\n",
    "print(arr_1d)\n",
    "print(\"    Dimension: \" + str(arr_1d.ndim))\n",
    "print(\"    Size: \" + str(arr_1d.size) )\n",
    "print()\n",
    "\n",
    "arr_2d = np.arange(16).reshape(4,4)\n",
    "print(\"    Second nd array: \")\n",
    "print(arr_2d)\n",
    "print(\"    Dimension: \" + str(arr_2d.ndim))\n",
    "print(\"    Size: \" + str(arr_2d.size) )\n",
    "\n",
    "print()\n",
    "arr_3d = np.arange(24).reshape(3,2,4)\n",
    "print(\"    Third nd array: \")\n",
    "print(arr_3d)\n",
    "print(\"    Dimension: \" + str(arr_3d.ndim))\n",
    "print(\"    Size: \" + str(arr_3d.size) )"
   ]
  },
  {
   "cell_type": "markdown",
   "metadata": {},
   "source": [
    "## Questions 4:\n",
    "\n",
    "How to convert a 1D array into a 2D array? Demonstrate with the help of a code snippet\n",
    "Hint: np.newaxis, np.expand_dims"
   ]
  },
  {
   "cell_type": "code",
   "execution_count": 5,
   "metadata": {},
   "outputs": [
    {
     "name": "stdout",
     "output_type": "stream",
     "text": [
      "np.newaixs\n",
      "[[0 1 2 3 4 5 6 7]]\n",
      "[[0]\n",
      " [1]\n",
      " [2]\n",
      " [3]]\n",
      "\n",
      "np.expand_dims\n",
      "[[ 0  1  2  3  4  5  6  7  8  9 10 11 12 13 14 15]]\n",
      "[[0]\n",
      " [1]\n",
      " [2]\n",
      " [3]\n",
      " [4]]\n"
     ]
    }
   ],
   "source": [
    "#to convert 1D into 2D... observ the following example\n",
    "array = np.arange(16)\n",
    "\n",
    "#using np.newaxis\n",
    "print(\"np.newaixs\")\n",
    "print(array[np.newaxis, :8]) #here 8 is the number of columns\n",
    "print(array[:4, np.newaxis]) #here 4 in the number of rows\n",
    "print()\n",
    "\n",
    "#using np.expand_dims\n",
    "print(\"np.expand_dims\")\n",
    "print(np.expand_dims(array, axis=(0)))\n",
    "print(np.expand_dims(array[:5], axis=1))"
   ]
  },
  {
   "cell_type": "markdown",
   "metadata": {},
   "source": [
    "## Questions 5:\n",
    "Consider two square numpy arrays. Stack them vertically and horizontally.\n",
    "Hint: Use vstack(), hstack()"
   ]
  },
  {
   "cell_type": "code",
   "execution_count": 6,
   "metadata": {},
   "outputs": [
    {
     "name": "stdout",
     "output_type": "stream",
     "text": [
      "Matrix 1:\n",
      "[[ 0.30303593  1.49917074  1.62404603]\n",
      " [ 1.3505474   0.30140652 -1.25537326]\n",
      " [ 0.67757006 -0.20091139 -0.47122778]]\n",
      "\n",
      "Matrix 2:\n",
      "[[-1.44577927  0.97495242  0.69205118]\n",
      " [ 0.19827315  0.80597425  0.96700968]\n",
      " [-0.21740385  1.52242276  0.64825238]]\n",
      "\n",
      "Horizontally Stacking the Matrices: \n",
      "[[ 0.30303593  1.49917074  1.62404603 -1.44577927  0.97495242  0.69205118]\n",
      " [ 1.3505474   0.30140652 -1.25537326  0.19827315  0.80597425  0.96700968]\n",
      " [ 0.67757006 -0.20091139 -0.47122778 -0.21740385  1.52242276  0.64825238]]\n",
      "\n",
      "Vertically Stacking the Matrices:\n",
      "[[ 0.30303593  1.49917074  1.62404603]\n",
      " [ 1.3505474   0.30140652 -1.25537326]\n",
      " [ 0.67757006 -0.20091139 -0.47122778]\n",
      " [-1.44577927  0.97495242  0.69205118]\n",
      " [ 0.19827315  0.80597425  0.96700968]\n",
      " [-0.21740385  1.52242276  0.64825238]]\n"
     ]
    }
   ],
   "source": [
    "arr_1 = np.random.randn(9).reshape(3,3)\n",
    "arr_2 = np.random.randn(9).reshape(3,3)\n",
    "\n",
    "print(\"Matrix 1:\")\n",
    "print(arr_1)\n",
    "print()\n",
    "\n",
    "print(\"Matrix 2:\")\n",
    "print(arr_2)\n",
    "print()\n",
    "\n",
    "print(\"Horizontally Stacking the Matrices: \")\n",
    "print(np.hstack((arr_1, arr_2)))\n",
    "print()\n",
    "\n",
    "print(\"Vertically Stacking the Matrices:\")\n",
    "print(np.vstack((arr_1, arr_2)))\n"
   ]
  },
  {
   "cell_type": "markdown",
   "metadata": {},
   "source": [
    "## Questions 6:\n",
    "How to get unique items and counts of unique items?"
   ]
  },
  {
   "cell_type": "code",
   "execution_count": 7,
   "metadata": {},
   "outputs": [
    {
     "name": "stdout",
     "output_type": "stream",
     "text": [
      "List:[1 3 6 7 2 9 1 5 3 1 6 3 9 5]\n",
      "\n",
      "Unique values are: \n",
      "[1 2 3 5 6 7 9]\n",
      "\n",
      "And their occurances are: \n",
      "[3 1 3 2 2 1 2]\n"
     ]
    }
   ],
   "source": [
    "array = np.array([1,3,6,7,2,9,1,5,3,1,6,3,9,5])\n",
    "print(\"List:\" + str(array))\n",
    "print()\n",
    "unique, cnt = np.unique(array, return_counts = True)\n",
    "print(\"Unique values are: \")\n",
    "print(unique)\n",
    "print()\n",
    "print(\"And their occurances are: \")\n",
    "print(cnt)\n"
   ]
  },
  {
   "cell_type": "markdown",
   "metadata": {},
   "source": [
    "END OF ASSIGNMENT 3"
   ]
  }
 ],
 "metadata": {
  "kernelspec": {
   "display_name": "Python 3",
   "language": "python",
   "name": "python3"
  },
  "language_info": {
   "codemirror_mode": {
    "name": "ipython",
    "version": 3
   },
   "file_extension": ".py",
   "mimetype": "text/x-python",
   "name": "python",
   "nbconvert_exporter": "python",
   "pygments_lexer": "ipython3",
   "version": "3.7.6"
  }
 },
 "nbformat": 4,
 "nbformat_minor": 4
}
